{
  "nbformat": 4,
  "nbformat_minor": 0,
  "metadata": {
    "colab": {
      "name": "Tox21.ipynb",
      "provenance": [],
      "collapsed_sections": []
    },
    "kernelspec": {
      "name": "python3",
      "display_name": "Python 3"
    },
    "language_info": {
      "name": "python"
    }
  },
  "cells": [
    {
      "cell_type": "markdown",
      "metadata": {
        "id": "U1EBHfp2twUY"
      },
      "source": [
        "**Install rdkit, deepchem and numpy**"
      ]
    },
    {
      "cell_type": "code",
      "metadata": {
        "id": "iDCAkxL7UcjJ"
      },
      "source": [
        "!curl -L bit.ly/rdkit-colab | tar xz -C /\n",
        "! pip install deepchem numpy"
      ],
      "execution_count": null,
      "outputs": []
    },
    {
      "cell_type": "markdown",
      "metadata": {
        "id": "oNsPRlVFt2eL"
      },
      "source": [
        "**Import numpy and deepchem**"
      ]
    },
    {
      "cell_type": "code",
      "metadata": {
        "id": "raz1c2QcRvE0"
      },
      "source": [
        "import numpy as np\n",
        "import deepchem as dc"
      ],
      "execution_count": 16,
      "outputs": []
    },
    {
      "cell_type": "markdown",
      "metadata": {
        "id": "F83I0u25t8ao"
      },
      "source": [
        "**Load Tox21 dataset**"
      ]
    },
    {
      "cell_type": "code",
      "metadata": {
        "id": "QYd8ZKzfRyj8"
      },
      "source": [
        "tox21_tasks, tox21_datasets, transformers = dc.molnet.load_tox21(featurizer='GraphConv')\n",
        "train_dataset, valid_dataset, test_dataset = tox21_datasets"
      ],
      "execution_count": 62,
      "outputs": []
    },
    {
      "cell_type": "markdown",
      "metadata": {
        "id": "2hDh50TCuDNY"
      },
      "source": [
        "**A Classification Graph Convolutional Network is chosen. We set the dropout rate to 0.1. Therefore 10% of the outputs from each convolutional layer will randomly be set to 0. This will reduce overfitting**"
      ]
    },
    {
      "cell_type": "code",
      "metadata": {
        "id": "oXkgO_K3ZORJ"
      },
      "source": [
        "model = dc.models.GraphConvModel(n_tasks=len(tox21_tasks), mode='classification', dropout=0.1)"
      ],
      "execution_count": 75,
      "outputs": []
    },
    {
      "cell_type": "markdown",
      "metadata": {
        "id": "h8mWJ-UtuWDS"
      },
      "source": [
        "**Train model**"
      ]
    },
    {
      "cell_type": "markdown",
      "metadata": {
        "id": "-m_RrTU7vtAd"
      },
      "source": [
        ""
      ]
    },
    {
      "cell_type": "code",
      "metadata": {
        "id": "vQIPOBafZkE7"
      },
      "source": [
        "model.fit(train_dataset, nb_epoch=50)"
      ],
      "execution_count": null,
      "outputs": []
    },
    {
      "cell_type": "markdown",
      "metadata": {
        "id": "2aqg6DADugKk"
      },
      "source": [
        "**Evaluate model using ROC-AUC score**"
      ]
    },
    {
      "cell_type": "code",
      "metadata": {
        "id": "QTGaR_wFZxzs"
      },
      "source": [
        "metric = dc.metrics.Metric(dc.metrics.roc_auc_score, np.mean, mode='classification')\n",
        "train_scores = model.evaluate(train_dataset, [metric], transformers)\n",
        "test_scores = model.evaluate(test_dataset, [metric], transformers)\n",
        "print('train_scores: {}\\n\\n test_scores: {}'.format(train_scores, test_scores))"
      ],
      "execution_count": 77,
      "outputs": []
    }
  ]
}
